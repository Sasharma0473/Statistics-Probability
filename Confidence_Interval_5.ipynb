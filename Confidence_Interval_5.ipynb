{
 "cells": [
  {
   "cell_type": "markdown",
   "id": "49ebfb1a",
   "metadata": {},
   "source": [
    "# Population Vs Sample\n",
    "\n",
    "#### Population: \n",
    "\n",
    "    A population is the entire group or set of individuals, objects, or events that a researcher wants to study or draw conclusions about. It can be people, animals, plants, or even inanimate objects, depending on the context of the study. The population usually represents the complete set of possible data points or observations.\n",
    "    \n",
    "#### Sample: \n",
    "\n",
    "    A sample is a subset of the population that is selected for study. It is a smaller group that is intended to be representative of the larger population. Researchers collect data from the sample and use it to make inferences about the population as a whole. Since it is often impractical or impossible to collect data from every member of a population, samples are used as an efficient and cost-effective way to gather information."
   ]
  },
  {
   "cell_type": "markdown",
   "id": "898706a4",
   "metadata": {},
   "source": [
    "# Parameter Vs Estimate(Statistic)\n",
    "#### Parameter: \n",
    "    A parameter is a numerical value that describes a characteristic of a population. Parameters are usually \n",
    "    denoted using Greek letters, such as μ (mu) for the population mean or σ (sigma) for the population \n",
    "    standard deviation. Since it is often difficult or impossible to obtain data from an entire population, \n",
    "    parameters are usually unknown and must be estimated based on available sample data.\n",
    "\n",
    "#### Statistic: \n",
    "    A statistic is a numerical value that describes a characteristic of a sample, which is a subset of the population. \n",
    "    By using statistics calculated from a representative sample, researchers can make inferences about the unknown respective parameter of the population. Common statistics include the sample mean (denoted by , pronounced \"x-bar\"), \n",
    "    the sample median, and the sample standard deviation (denoted by s)."
   ]
  },
  {
   "cell_type": "markdown",
   "id": "cd89832e",
   "metadata": {},
   "source": [
    "# Inferential Statistics\n",
    "    Inferential statistics is a branch of statistics that focuses on making predictions, estimations, \n",
    "    or generalizations about a larger population based on a sample of data taken from that population. \n",
    "    It involves the use of probability theory to make inferences and draw conclusions about \n",
    "    the characteristics of a population by analysing a smaller subset or sample.\n",
    "\n",
    "    The key idea behind inferential statistics is that it is often impractical or impossible to collect data \n",
    "    from every member of a population, so instead, we use a representative sample to make inferences \n",
    "    about the entire group. Inferential statistical techniques include \n",
    "    hypothesis testing, confidence intervals, and regression analysis, among others.\n",
    "\n",
    "    These methods help researchers answer questions like:\n",
    "    a. Is there a significant difference between two groups?\n",
    "    b. Can we predict the outcome of a variable based on the values of other variables?\n",
    "    c. What is the relationship between two or more variables?\n",
    "    \n",
    "    Inferential statistics are widely used in various fields, such as economics, social sciences, medicine, \n",
    "    and natural sciences, to make informed decisions and guide policy based on limited"
   ]
  },
  {
   "cell_type": "markdown",
   "id": "4d388610",
   "metadata": {},
   "source": [
    "# Point Estimate\n",
    "    with the help of sample data if we calculate the mean and predict something about the population data \n",
    "    then that mean value is called point estimate."
   ]
  },
  {
   "cell_type": "markdown",
   "id": "267c4823",
   "metadata": {},
   "source": [
    "# Confidence Interval\n",
    "    Confidence interval, in simple words, is a range of values within which we expect a particular \n",
    "    population parameter, like a mean, to fall. It's a way to express the uncertainty around \n",
    "    an estimate obtained from a sample of data.\n",
    "    \n",
    "#### Confidence level, \n",
    "    It usually expressed as a percentage like 95%, indicates how sure we are that the true value lies within the interval.\n",
    "    \n",
    "    Confidence Interval = Point Estimate + Margin of Error"
   ]
  },
  {
   "cell_type": "markdown",
   "id": "ca471d9c",
   "metadata": {},
   "source": [
    "# Z Procedure(Z-test)\n",
    "\n",
    "#### Random sampling: \n",
    "    The data must be collected using a random sampling method to ensure that the sample \n",
    "    is representative of the population. This helps to minimize biases and ensures that \n",
    "    the results can be generalized to the entire population.\n",
    "    \n",
    "#### Known population standard deviation: \n",
    "    The population standard deviation (σ) must be known or accurately estimated. \n",
    "    In practice, the population standard deviation is often unknown, and the sample standard deviation (s) \n",
    "    is used as an estimate. However, if the sample size is large enough, \n",
    "    the sample standard deviation can provide a reasonably accurate approximation.\n",
    "    \n",
    "#### Normal distribution or large sample size: \n",
    "    The Z-procedure assumes that the underlying population is normally distributed. However, if the population \n",
    "    distribution is not normal, the Central Limit Theorem can be applied when the sample size is large (usually, \n",
    "    sample size n ≥ 30 is considered large enough). According to the Central Limit Theorem, the sampling distribution \n",
    "    of the sample mean will approach a normal distribution as the \n",
    "    sample size increases, regardless of the shape of the population distribution."
   ]
  },
  {
   "cell_type": "markdown",
   "id": "3bff822c",
   "metadata": {},
   "source": [
    "# Interpreting Confidence Interval\n",
    "\n",
    "    A confidence interval is a range of values within which a population parameter, such as the population mean, \n",
    "    is estimated to lie with a certain level of confidence. The confidence interval provides an indication \n",
    "    of the precision and uncertainty associated with the estimate. To interpret the confidence interval values, \n",
    "    consider the following points:\n",
    "    \n",
    "#### Confidence level: \n",
    "    The confidence level (commonly set at 90%, 95%, or 99%) represents the probability that the confidence interval \n",
    "    will contain the true population parameter if the sampling and estimation process were repeated multiple times. \n",
    "    \n",
    "##### For example:\n",
    "\n",
    "    A 95% confidence interval means that if you were to draw 100 different samples from the population and \n",
    "    calculate the confidence interval for each, approximately 95 of those intervals \n",
    "    would contain the true population parameter.\n",
    "    \n",
    "#### Interpretation: \n",
    "    To interpret the confidence interval values, you can say that you are \"X% confident that the true \n",
    "    population parameter lies within the range (lower limit, upper limit).\" \n",
    "    Keep in mind that this statement is about the interval, not the specific point estimate, \n",
    "    and it refers to the confidence level you chose when constructing the interval\n",
    "    \n",
    "### Factors Affecting Margin of Error\n",
    "    Confidence Level (1-alpha)\n",
    "    Sample Size\n",
    "    Population Standard Deviation"
   ]
  },
  {
   "cell_type": "markdown",
   "id": "1fc6d1e6",
   "metadata": {},
   "source": [
    "# Confidence Interval (Sigma not known) Or (T-Procedure) Or (T-test)\n",
    "### Assumptions\n",
    "\n",
    "#### Random sampling: \n",
    "    The data must be collected using a random sampling method to ensure that the sample is representative \n",
    "    of the population. This helps to minimize biases and ensures that the results can be \n",
    "    generalized to the entire population.\n",
    "\n",
    "#### Sample standard deviation \n",
    "    The population standard deviation (σ) is unkno n, and the sample standard deviation (s) is used as an estimate. \n",
    "    The t-distribution is specifically designed to account for the additional uncertainty \n",
    "    introduced by using the sample standard deviation instead of the population standard deviation.\n",
    "\n",
    "#### Approximately normal distribution: \n",
    "    The t-procedure assumes that the underlying population is approximately normally distributed, or the sample size \n",
    "    is large enough for the Central Limit Theorem to apply. If the population distribution is heavily  skewed or \n",
    "    has extreme outliers, the t-procedure may not be accurate, and non-parametric methods should be considered.\n",
    "\n",
    "#### Independent observations: \n",
    "    The observations in the sample should be independent of each other. In other words, the value of one \n",
    "    observation should not influence the value of another observation. This is particularly important \n",
    "    when working with time series data or data with inherent dependencies."
   ]
  },
  {
   "cell_type": "markdown",
   "id": "7484eb41",
   "metadata": {},
   "source": [
    "# Titanic Case Study\n",
    "    Population = 1309\n",
    "    mean unknow\n",
    "    std_dev unknow\n",
    "    apply clt\n",
    "    95% CI Inference"
   ]
  },
  {
   "cell_type": "code",
   "execution_count": 1,
   "id": "1b93d182",
   "metadata": {},
   "outputs": [],
   "source": [
    "import pandas as pd\n",
    "import numpy as np\n",
    "import matplotlib.pyplot as plt\n",
    "import seaborn as sns"
   ]
  },
  {
   "cell_type": "code",
   "execution_count": 2,
   "id": "f528bf47",
   "metadata": {},
   "outputs": [],
   "source": [
    "train_data = pd.read_csv(r\"C:\\Users\\sasha\\Desktop\\Statistics CX\\DataSet\\titanic.csv\")\n",
    "test_data = pd.read_csv(r\"C:\\Users\\sasha\\Desktop\\Python\\Python_Tutorial\\Exploratory Data Analysis\\Data Analysis Process\\test.csv\")"
   ]
  },
  {
   "cell_type": "code",
   "execution_count": 3,
   "id": "8cb0fe28",
   "metadata": {},
   "outputs": [],
   "source": [
    "df_data = pd.concat([train_data.drop(columns=['Survived']),test_data]).sample(1309)"
   ]
  },
  {
   "cell_type": "code",
   "execution_count": 4,
   "id": "b1f3a7ff",
   "metadata": {},
   "outputs": [
    {
     "data": {
      "text/plain": [
       "<Axes: ylabel='Density'>"
      ]
     },
     "execution_count": 4,
     "metadata": {},
     "output_type": "execute_result"
    },
    {
     "data": {
      "image/png": "[encoded data removed]",
      "text/plain": [
       "<Figure size 640x480 with 1 Axes>"
      ]
     },
     "metadata": {},
     "output_type": "display_data"
    }
   ],
   "source": [
    "df_data['Fare'].plot(kind='kde')"
   ]
  },
  {
   "cell_type": "code",
   "execution_count": 5,
   "id": "21c19086",
   "metadata": {},
   "outputs": [],
   "source": [
    "# Sample Size 30 --> 100 times"
   ]
  },
  {
   "cell_type": "code",
   "execution_count": 6,
   "id": "96905f80",
   "metadata": {},
   "outputs": [],
   "source": [
    "samples = []\n",
    "std = []\n",
    "for i in range(10):\n",
    "    x = df_data['Fare'].dropna().sample(30).values\n",
    "    std.append(x.std())\n",
    "    samples.append(x.tolist())"
   ]
  },
  {
   "cell_type": "code",
   "execution_count": 7,
   "id": "0f808b06",
   "metadata": {},
   "outputs": [],
   "source": [
    "samples = np.array(samples)"
   ]
  },
  {
   "cell_type": "code",
   "execution_count": 8,
   "id": "a5f625ca",
   "metadata": {},
   "outputs": [
    {
     "data": {
      "text/plain": [
       "array([43.71708333, 27.57624667, 45.33181   , 22.35403   , 28.52444   ,\n",
       "       32.47846667, 28.18222667, 21.43306333, 34.18903333, 24.78972   ])"
      ]
     },
     "execution_count": 8,
     "metadata": {},
     "output_type": "execute_result"
    }
   ],
   "source": [
    "sampling_mean = np.mean(samples,axis=1)\n",
    "sampling_mean"
   ]
  },
  {
   "cell_type": "code",
   "execution_count": 9,
   "id": "acc2f55f",
   "metadata": {},
   "outputs": [
    {
     "data": {
      "text/plain": [
       "38.12381017808875"
      ]
     },
     "execution_count": 9,
     "metadata": {},
     "output_type": "execute_result"
    }
   ],
   "source": [
    "sample_std = np.mean(std)\n",
    "sample_std"
   ]
  },
  {
   "cell_type": "code",
   "execution_count": 10,
   "id": "1034afad",
   "metadata": {},
   "outputs": [],
   "source": [
    "lower_limit = sampling_mean.mean() - (2.042* sample_std/np.sqrt(30))\n",
    "upper_limit = sampling_mean.mean() + (2.042* sample_std/np.sqrt(30))"
   ]
  },
  {
   "cell_type": "code",
   "execution_count": 11,
   "id": "3b19c135",
   "metadata": {},
   "outputs": [
    {
     "name": "stdout",
     "output_type": "stream",
     "text": [
      "16.644427000234316\n",
      "45.070796999765676\n"
     ]
    }
   ],
   "source": [
    "print(lower_limit)\n",
    "print(upper_limit)"
   ]
  },
  {
   "cell_type": "code",
   "execution_count": 12,
   "id": "584a862c",
   "metadata": {},
   "outputs": [
    {
     "data": {
      "text/plain": [
       "33.295479281345564"
      ]
     },
     "execution_count": 12,
     "metadata": {},
     "output_type": "execute_result"
    }
   ],
   "source": [
    "df_data['Fare'].mean()"
   ]
  },
  {
   "cell_type": "code",
   "execution_count": null,
   "id": "3a25051c",
   "metadata": {},
   "outputs": [],
   "source": []
  },
  {
   "cell_type": "code",
   "execution_count": null,
   "id": "860a0d86",
   "metadata": {},
   "outputs": [],
   "source": []
  },
  {
   "cell_type": "code",
   "execution_count": null,
   "id": "8e6965d8",
   "metadata": {},
   "outputs": [],
   "source": []
  },
  {
   "cell_type": "code",
   "execution_count": null,
   "id": "18c026df",
   "metadata": {},
   "outputs": [],
   "source": []
  },
  {
   "cell_type": "code",
   "execution_count": null,
   "id": "41fb830f",
   "metadata": {},
   "outputs": [],
   "source": []
  },
  {
   "cell_type": "code",
   "execution_count": null,
   "id": "fefa5ad6",
   "metadata": {},
   "outputs": [],
   "source": []
  },
  {
   "cell_type": "code",
   "execution_count": null,
   "id": "4eb29bc7",
   "metadata": {},
   "outputs": [],
   "source": []
  },
  {
   "cell_type": "code",
   "execution_count": null,
   "id": "3ac6c977",
   "metadata": {},
   "outputs": [],
   "source": []
  },
  {
   "cell_type": "code",
   "execution_count": null,
   "id": "a83ef2c8",
   "metadata": {},
   "outputs": [],
   "source": []
  }
 ],
 "metadata": {
  "kernelspec": {
   "display_name": "Python 3 (ipykernel)",
   "language": "python",
   "name": "python3"
  },
  "language_info": {
   "codemirror_mode": {
    "name": "ipython",
    "version": 3
   },
   "file_extension": ".py",
   "mimetype": "text/x-python",
   "name": "python",
   "nbconvert_exporter": "python",
   "pygments_lexer": "ipython3",
   "version": "3.11.4"
  }
 },
 "nbformat": 4,
 "nbformat_minor": 5
}
