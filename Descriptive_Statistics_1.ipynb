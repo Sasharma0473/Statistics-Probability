{
 "cells": [
  {
   "cell_type": "markdown",
   "id": "bf6842de",
   "metadata": {},
   "source": [
    "## Statistics\n",
    "    Statistics is a branch of mathematics that involves collecting, analysing, interpreting, and presenting data. \n",
    "    It provides tools and methods to understand and make sense of large amounts of data and to draw conclusions \n",
    "    and make decisions based on the data.\n",
    "\n",
    "    Statistics is used in a wide range of fields, such as business, economics, social sciences, medicine, \n",
    "    and engineering. It is used to conduct research studies, analyse market trends, evaluate the \n",
    "    effectiveness of treatments and interventions, and make forecasts and predictions\n",
    "    \n",
    "#### Examples\n",
    "    Business - Data Analysis(Identifying customer behavior) and \n",
    "    Demand Forecasting\n",
    "    Medical - Identify efficacy of new medicines(Clinical trials), \n",
    "    Identifying risk factor for diseases(Epidemiology)\n",
    "    Government & Politics - Conducting surveys, Polling\n",
    "    Environmental Science - Climate research"
   ]
  },
  {
   "cell_type": "markdown",
   "id": "4042c2fc",
   "metadata": {},
   "source": [
    "## Types of Statistics \n",
    "#### Descriptive statistics \n",
    "    It deals with the collection, organization, analysis, interpretation, and presentation of data. \n",
    "    It focuses on summarizing and describing the main features of a set of data, without \n",
    "    making inferences or predictions about the larger population.\n",
    "\n",
    "#### Inferential statistics \n",
    "    It deals with making conclusions and predictions about a population based on a sample. \n",
    "    It involves the use of probability theory to estimate the likelihood of certain events occurring, hypothesis testing to \n",
    "    determine if a certain claim about a population is supported by the data, and regression analysis to \n",
    "    examine the relationships between variables"
   ]
  },
  {
   "cell_type": "markdown",
   "id": "3b1e1e08",
   "metadata": {},
   "source": [
    "# Population Vs Sample Data\n",
    "\n",
    "#### Population Data\n",
    "    Population refers to the entire group of individuals or objects that we are interested in studying. \n",
    "    It is the complete set of observations that we want to make inferences about. \n",
    "    For example, the population might be all the students in a particular school or all the cars in a particular city.\n",
    "    \n",
    "#### Sample Data\n",
    "    A sample, on the other hand, is a subset of the population. It is a smaller group of individuals or \n",
    "    objects that we select from the population to study. \n",
    "    Samples are used to estimate characteristics of the population, \n",
    "    such as the mean or the proportion with a certain attribute. \n",
    "    For example, we might randomly select 100 students\n",
    "    \n",
    "#### Examples\n",
    "    All cricket fans --> population data vs fans who were present in the stadium--> sample data\n",
    "    All students--> population data vs who visit college for lectures--> sample data\n",
    " \n",
    "#### Things to be careful about which creating samples\n",
    "    Sample Size\n",
    "    Random\n",
    "    Representative\n",
    "\n",
    "#### Note\n",
    "    A parameter is a characteristic of a population, while a statistic is a characteristic \n",
    "    of a sample."
   ]
  },
  {
   "cell_type": "markdown",
   "id": "19e821dd",
   "metadata": {},
   "source": [
    "# Inferential statistics \n",
    "\n",
    "    Its a branch of statistics that deals with making inferences or predictions \n",
    "    about a larger population based on a sample of data. It involves using statistical techniques to \n",
    "    test hypotheses and draw conclusions from data. Some of the topics that come under \n",
    "    inferential statistics are:\n",
    "        \n",
    "#### Hypothesis testing: \n",
    "    This involves testing a hypothesis about a population parameter based \n",
    "    on a sample of data. For example, testing whether the mean height of a population is \n",
    "    different from a given value.\n",
    "#### Confidence intervals: \n",
    "    This involves estimating the range of values that a population \n",
    "    parameter could take based on a sample of data. For example, estimating the population \n",
    "    mean height within a given confidence level.\n",
    "#### Analysis of variance (ANOVA): \n",
    "    This involves comparing means across multiple groups to \n",
    "    determine if there are any significant differences. For example, comparing the mean \n",
    "    height of individuals from different regions.\n",
    "#### Regression analysis: \n",
    "    This involves modelling the relationship between a dependent \n",
    "    variable and one or more independent variables. For example, predicting the sales of a \n",
    "    product based on advertising expenditure.\n",
    "    \n",
    "    y = x+3 where y is dependent variable and x is independent variable.\n",
    "#### Chi-square tests: \n",
    "    This involves testing the independence or association between two \n",
    "    categorical variables. For example, testing whether gender and occupation are \n",
    "    independent variables.\n",
    "#### Sampling techniques: \n",
    "    This involves ensuring that the sample of data is representative of \n",
    "    the population. For example, using random sampling to select individuals from a \n",
    "    population.\n",
    "#### Bayesian statistics: \n",
    "    This is an alternative approach to statistical inference that involves \n",
    "    updating beliefs about the probability of an event based on new evidence. For example, \n",
    "    updating the probability of a disease given a positive test result"
   ]
  },
  {
   "cell_type": "markdown",
   "id": "77db0a31",
   "metadata": {},
   "source": [
    "# Descriptive statistics\n",
    "\n",
    "## Types of Columns Data\n",
    "\n",
    "#### Categorical or Qualitative data(gender,Nationality,religion,college branch)\n",
    "\n",
    "    Types of categorical Data:-\n",
    "    \n",
    "    1) Nominal Data: If there is no order in the categorical data than will called as a nominal data.\n",
    "    Examples:-\n",
    "    Gender-> It always either male or female there is no more and less.\n",
    "    state -> Here there is no order in it.\n",
    "    \n",
    "    2) Ordinal Data: If there is order in our categorical data then will called as ordinal data.\n",
    "    Examples:\n",
    "    course feedback-> It will be like bad,avg,good. here we have category but we can see bad,good,avg, which is a order.\n",
    "    \n",
    "#### Numerical or Quantitative data(Age,height,weight,Fare etc)\n",
    "\n",
    "    Its a type of data which can hold only numerical values.\n",
    "    \n",
    "    1) Discreate data: Here we will take only integer values.\n",
    "    Exmaples: Age ,Rank\n",
    "    \n",
    "    2) Continous Data: It is such type of data which can take any numerical values.\n",
    "    Examples: weight , height"
   ]
  },
  {
   "cell_type": "markdown",
   "id": "1d21a0c7",
   "metadata": {},
   "source": [
    "## Measure of Central Tendency \n",
    "\n",
    "    A measure of central tendency is a statistical measure that represents a typical or central value for a dataset. It provides a summary of the data by identifying a single value that is most representative of the dataset as a whole. \n",
    "    \n",
    "#### Mean: \n",
    "        The mean is the sum of all values in the dataset divided by the number of values\n",
    "        \n",
    "        Drawback in MEAN:\n",
    "        \n",
    "        If we have outlier in our data then Mean is not going to give us the correct represenation of central tendency.\n",
    "        So Mean is very prone to outlier, it will shift the mean from central value to outlier value.\n",
    "        \n",
    "#### Median: \n",
    "    It is the central value of data, when data is arranged in one order(asc or desc).\n",
    "    So if we have outliers in our data then will use median to get to know about the central value of data, because \n",
    "    if we find median then the outlier either shift left or right most corner and it does'nt appear in the calculation.\n",
    "    \n",
    "#### Mode:\n",
    "    Its a value which occurs maximum times in our data. Mode is generally used in categorical data and dicreate \n",
    "    numerical value.\n",
    "    \n",
    "#### weighted mean:- \n",
    "    The weighted mean is the sum of the products of each value and its weight, divided by the sum \n",
    "    of the  weights. It is used to calculate a mean when the values in the dataset have different importance or frequency.\n",
    "    \n",
    "#### Trimmed Mean:\n",
    "    A trimmed mean is calculated by removing a certain percentage of the smallest and largest \n",
    "    values from the dataset and then taking the mean of the remaining values. \n",
    "    The percentage of values removed is called the trimming percentage.\n",
    "    or \n",
    "    If we have outlier in the data then will go for trimmed mean where we remove the outliers and calculate the \n",
    "    mean which we called as a trimmed mean. and the percentage of the value removed is called as the trmming percentage."
   ]
  },
  {
   "cell_type": "markdown",
   "id": "858e442d",
   "metadata": {},
   "source": [
    "# Measure of Dispersion \n",
    "\n",
    "    A measure of dispersion is a statistical measure that describes the spread or variability of a dataset. \n",
    "    It provides information about how the data is distributed around the central tendency (mean, median or mode) \n",
    "    of the dataset.\n",
    "    \n",
    "#### Range: \n",
    "    \n",
    "    The range is the difference between the maximum and minimum values in the dataset. It is a simple measure \n",
    "    of dispersion that is easy to calculate but can be affected by OUTLIERS.\n",
    "    \n",
    "#### Variance:\n",
    "    \n",
    "    The variance is the average of the squared differences between each data point and the mean. \n",
    "    It measures the average distance of each data point from the mean and is useful \n",
    "    in comparing the dispersion of datasets with  different means.\n",
    "    \n",
    "    * Variance is propotional to the spread of the data.\n",
    "    \n",
    "    \"\"\" It measures the average distance of each data point from the mean and is useful \n",
    "    in comparing the dispersion of datasets with  different means\"\"\" . \n",
    "    with the help of this above statement we can conclude that we are trying to to find out the spread of the data.\n",
    "    \n",
    "    If we know the variance of the sample data then we can calculate the variance of population data \n",
    "    through inferential statistics. but at the same time if we know the MAD(Mean Standard Deviation) of sample data then \n",
    "    we can not find out the MAD(Mean Standard Deviation) of population data.\n",
    "    \n",
    "#### Standard Deviation:\n",
    "\n",
    "    Standard Deviation: The standard deviation is the square root of the variance. It is \n",
    "    a widely used measure of dispersion that is useful in describing the shape of a \n",
    "    distribution\n",
    "    \n",
    "#### Coefficient of Variation:\n",
    "\n",
    "    Whenever we have 2 different columns in the same dataset, we want to see the variability between them then will use CV.\n",
    "    CV is used to compare 2 distribution. \n",
    "    \n",
    "    for example we have one dataset in which we have age and fare column which is used for comparision , now we know that \n",
    "    we can'nt compare age with fare so we use CV to get the idea of variability.\n",
    "    \n",
    "    Coefficient of Variation (CV): The CV is the ratio of the standard deviation to the mean expressed as a percentage. \n",
    "    It is used to compare the variability of datasets with different means \n",
    "    and is commonly used in fields such as biology,chemistry, and engineering\n",
    "    \n",
    "     The coefficient of variation (CV) is a statistical measure that expresses the amount of \n",
    "     variability in a dataset  relative to the mean. It is a dimensionless quantity that is expressed as a percentage.\n",
    "     \n",
    "     CV = (standard deviation / mean) x 100%\n",
    "    \n",
    "    "
   ]
  },
  {
   "cell_type": "markdown",
   "id": "9d76f3ab",
   "metadata": {},
   "source": [
    "# Graph for Univariate Analysis:\n",
    "\n",
    "    We used to perform the univariate analysis on two types of columns, which is:\n",
    "    1) categorical columns                               2) Numerical columns \n",
    "    \n",
    "    here will study which type of graphs is used to perform the univariate analysis on categorical and numerical columns.\n",
    "    \n",
    "### 1) Categorical Columns:\n",
    "    \n",
    "    There are 3 types of graphs which we can plot on the categorical columns and they are based on \n",
    "    frequency distribution(bar chart) ,relative frequency(pie chart), Cumulative frequency(line chart or barchart)\n",
    "    \n",
    "#### a). Frequency distribution:\n",
    "    \n",
    "    A frequency distribution table is a table that summarizes the number of times (or \n",
    "    frequency) that each value occurs in a dataset.  \n",
    "    \n",
    "#### b). Relative Distribution:\n",
    "    \n",
    "    Relative frequency is the proportion or percentage of a category in a dataset or \n",
    "    sample. It is calculated by dividing the frequency of a category by the total number \n",
    "    of observations in the dataset or sample.\n",
    "\n",
    "#### c). Cumulative frequency:\n",
    "\n",
    "    Cumulative frequency is the running total of frequencies of a variable or category \n",
    "    in a dataset or sample. It is calculated by adding up the frequencies of the current \n",
    "    category and all previous categories in the dataset or sample\n",
    "    \n",
    "#### 2) Numerical Columns:\n",
    "\n",
    "    we can plot histogram on numerical columns for univariate analysis.\n",
    "    \n",
    "    With the help of numerical columns, still we can plot the histogram on the frequency distribution table. \n",
    "    \n",
    "    To plot the histogram, we need to give the bucket size correctly and it will pick up the right value and put \n",
    "    it in the right bucket \n",
    "    \n",
    "    Shapes of Histogram:(visit page 19)\n",
    "    1) Symmetrical Histogram: follows normal distribution\n",
    "    2) Bimodal histogram: It has 2 peaks in the histogram.\n",
    "    3) skewd(left and right skew): the histogram peak is on either left and right side.\n",
    "    4) Uniform histogram: when we have same data points in each bucket.\n",
    "    5) Non Pattern: there is no pattern in this.(this condition occur when we have large amount of bins.) "
   ]
  },
  {
   "cell_type": "markdown",
   "id": "fcdccae3",
   "metadata": {},
   "source": [
    "# Graphs on Bivariate Analysis\n",
    "\n",
    "    To perform the Bivariate Analysis we plot the 3 different category type of graphs.\n",
    "    1) Categorical-Categorical Graphs         2) Categorical- Numerical Graphs        3) Numerical - Numerical Graphs\n",
    "    \n",
    "#### 1) Categorical- Categorical Graphs.\n",
    "    \n",
    "    a). Contingency Table/Crosstab:\n",
    "    \n",
    "    A contingency table, also known as a cross-tabulation or crosstab, is a type of table used \n",
    "    in statistics to summarize the relationship between two categorical variables. \n",
    "    A contingency table displays the frequencies or relative frequencies of \n",
    "    the observed values of the two variables, organized into rows and columns.\n",
    "    \n",
    "#### 2) Numerical -Numerical Graphs:\n",
    "    a). Scatter-Plot\n",
    "    \n",
    "    We can plot the scatterplot between the two Numerical columns.\n",
    "    \n",
    "#### 3) Categorical -Numerical Graph\n",
    "    Bar chart"
   ]
  },
  {
   "cell_type": "markdown",
   "id": "47515a69",
   "metadata": {},
   "source": [
    "# Quantiles and Percentiles\n",
    "\n",
    "    Quantiles are statistical measures used to divide a set of numerical data into equal-sized groups, \n",
    "    with each group containing an equal number of observations\n",
    "    \n",
    "    Quantiles are important measures of variability and can be used to: \n",
    "    understand distribution of data,summarize and compare different datasets. They can also be used to identify outliers.\n",
    "    \n",
    "    There are several types of quantiles used in statistical analysis, including:\n",
    "    \n",
    "#### a). Quartiles: \n",
    "    Divide the data into four equal parts, Q1 (25th percentile), Q2\n",
    "    (50th percentile or median), and Q3 (75th percentile).\n",
    " \n",
    "#### b). Deciles: \n",
    "    Divide the data into ten equal parts, D1 (10th percentile), D2\n",
    "    (20th percentile), ..., D9 (90th percentile).\n",
    "    \n",
    "#### c). Percentiles: \n",
    "    Divide the data into 100 equal parts, P1 (1st percentile), P2\n",
    "    (2nd percentile), ..., P99 (99th percentile).\n",
    "    \n",
    "#### d). Quintiles: \n",
    "    Divides the data into 5 equal parts\n",
    "    \n",
    "###### Things to remember while calculating these measures:\n",
    "    \n",
    "    1. Data should be sorted from low to high\n",
    "    2. You are basically finding the location of an observation\n",
    "    3. They are not actual values in the data\n",
    "    4. All other tiles can be easily derived from Percentiles"
   ]
  },
  {
   "cell_type": "markdown",
   "id": "fb9f7a6c",
   "metadata": {},
   "source": [
    "# Percentile\n",
    "\n",
    "    A percentile is a statistical measure that represents the percentage of observations in a\n",
    "    dataset that fall below a particular value. For example, the 75th percentile is the value below\n",
    "    which 75% of the observations in the dataset fall.\n",
    "    \n",
    "    Formula to calculate the percentile value:\n",
    "    PL = p(N+1)/100\n",
    "    \n",
    "    where:\n",
    "    • PL = the desired percentile value location\n",
    "    • N = the total number of observations in the dataset\n",
    "    • p = the percentile rank (expressed as a percentage)"
   ]
  },
  {
   "cell_type": "markdown",
   "id": "68e14728",
   "metadata": {},
   "source": [
    "# Five number summary\n",
    "    The five-number summary is a descriptive statistic that provides a summary of a dataset. It consists of \n",
    "    five values that divide the dataset into four equal parts, also known as quartiles. \n",
    "    The five-number summary includes the following values:\n",
    "        \n",
    "#### Minimum value: \n",
    "    The smallest value in the dataset.\n",
    "    mini value = Q1 - (1.5*iqr) where iqr= Q3-Q1\n",
    "    \n",
    "#### First quartile (Q1): \n",
    "    The value that separates the lowest 25% of the data from\n",
    "    the rest of the dataset.\n",
    "\n",
    "#### Median (Q2): \n",
    "    The value that separates the lowest 50% from the highest 50%\n",
    "    of the data.\n",
    "\n",
    "#### Third quartile (Q3): \n",
    "    The value that separates the lowest 75% of the data from\n",
    "    the highest 25% of the data.\n",
    "\n",
    "#### Maximum value: \n",
    "    The largest value in the dataset.\n",
    "    maxi_value = Q3 + (1.5*iqr) where iqr= Q3-Q1\n",
    "    \n",
    "#### Note\n",
    "    The five-number summary is often represented visually using a box plot, which displays the range of the dataset, \n",
    "    the median, and the quartiles.\n",
    "    The five-number summary is a useful way to quickly summarize  the central tendency, variability, \n",
    "    and distribution of a dataset and outliers in the data"
   ]
  },
  {
   "cell_type": "markdown",
   "id": "c0e89527",
   "metadata": {},
   "source": [
    "# Box Plot\n",
    "    \n",
    "    A box plot, also known as a box-and-whisker plot, is a graphical representation of a dataset \n",
    "    that shows the distribution of the data. The box plot displays a summary of the data, \n",
    "    including the minimum and maximum values, the first quartile (Q1), the median (Q2), and the third quartile (Q3).\n",
    "    \n",
    "#### Benefits of a Boxplot:\n",
    "\n",
    "    ○ Easy way to see the distribution of data\n",
    "    ○ Tells about skewness of data\n",
    "    ○ Can identify outliers\n",
    "    ○ Compare 2 categories of data\n",
    "    \n",
    "#### Note:\n",
    "\n",
    "    We can create the side by side box plot with the help of data. and comapre the data accordingly."
   ]
  },
  {
   "cell_type": "markdown",
   "id": "fd5b49a0",
   "metadata": {},
   "source": [
    "# Scatter Plot:\n",
    "    We have studied about the scatter plot. It is basically used to plot when we have 2 numerical columns. Today will see\n",
    "    different meausre to study that scatter plot.\n",
    "    \n",
    "### 1) Covariance\n",
    "\n",
    "    What problem does Covariance solve?\n",
    "    \n",
    "***See the Register***\n",
    "    \n",
    "    Covariance is a statistical measure that describes the degree to which two variables are linearly related. \n",
    "    It measures how much two variables change together, such that when one variable increases, \n",
    "    does the other variable also increase, or does it decrease?\n",
    "    \n",
    "    If the covariance between two variables is positive, it means that the variables tend to move together \n",
    "    in the same direction. \n",
    "    \n",
    "    If the covariance is negative, it means that the variables tend to move \n",
    "    in opposite directions. \n",
    "    \n",
    "    A covariance of zero indicates that the variables are not linearly related.\n",
    "    \n",
    "#### Disadvantages of using Covariance\n",
    "\n",
    "    One limitation of covariance is that it does not tell us about the strength of the relationship \n",
    "    between two variables, since the magnitude of covariance is affected by the scale of the variables. \n",
    "    \n",
    "### 2) Correlation \n",
    "\n",
    "    What problem does Correlation solve?\n",
    "***See the register***\n",
    "\n",
    "    Correlation refers to a statistical relationship between two or more variables. \n",
    "    Specifically, it measures the degree to which two variables are related and how they tend to change together.\n",
    "    \n",
    "    Correlation is often measured using a statistical tool called the correlation coefficient, which ranges from -1 to 1. \n",
    "    A correlation coefficient of -1 indicates a perfect negative correlation, \n",
    "    a correlation coefficient of 0 indicates no correlation, \n",
    "    and a correlation coefficient of 1 indicates a perfect positive correlation.\n",
    "    \n",
    "    correlation = cov(x,y)/(std_dev(x)* std_dev(y))\n",
    "\n",
    "    correlation does not imply causation\" means that just because two variables are associated with each other, \n",
    "    it does not necessarily mean that one causes the other. In other words, a correlation between \n",
    "    two variables does not necessarily imply that one variable is the reason for the other variable's behaviour."
   ]
  },
  {
   "cell_type": "markdown",
   "id": "32ddd017",
   "metadata": {},
   "source": [
    "# Covariance-"
   ]
  },
  {
   "cell_type": "code",
   "execution_count": 1,
   "id": "55f7d9cc",
   "metadata": {},
   "outputs": [],
   "source": [
    "import pandas as pd\n",
    "import numpy as np\n",
    "import matplotlib.pyplot as plt\n",
    "import seaborn as sns"
   ]
  },
  {
   "cell_type": "code",
   "execution_count": 2,
   "id": "7ef88ac7",
   "metadata": {},
   "outputs": [],
   "source": [
    "df = pd.DataFrame()"
   ]
  },
  {
   "cell_type": "code",
   "execution_count": 3,
   "id": "d20af69f",
   "metadata": {},
   "outputs": [],
   "source": [
    "from re import X\n",
    "x = pd.Series([12,25,68,42,113])\n",
    "y = pd.Series([11,29,58,121,100])"
   ]
  },
  {
   "cell_type": "code",
   "execution_count": 4,
   "id": "1dc05c9f",
   "metadata": {},
   "outputs": [],
   "source": [
    "df['X']= x\n",
    "df['Y']= y"
   ]
  },
  {
   "cell_type": "code",
   "execution_count": 5,
   "id": "0d50f7b3",
   "metadata": {},
   "outputs": [
    {
     "data": {
      "text/html": [
       "<div>\n",
       "<style scoped>\n",
       "    .dataframe tbody tr th:only-of-type {\n",
       "        vertical-align: middle;\n",
       "    }\n",
       "\n",
       "    .dataframe tbody tr th {\n",
       "        vertical-align: top;\n",
       "    }\n",
       "\n",
       "    .dataframe thead th {\n",
       "        text-align: right;\n",
       "    }\n",
       "</style>\n",
       "<table border=\"1\" class=\"dataframe\">\n",
       "  <thead>\n",
       "    <tr style=\"text-align: right;\">\n",
       "      <th></th>\n",
       "      <th>X</th>\n",
       "      <th>Y</th>\n",
       "    </tr>\n",
       "  </thead>\n",
       "  <tbody>\n",
       "    <tr>\n",
       "      <th>0</th>\n",
       "      <td>12</td>\n",
       "      <td>11</td>\n",
       "    </tr>\n",
       "    <tr>\n",
       "      <th>1</th>\n",
       "      <td>25</td>\n",
       "      <td>29</td>\n",
       "    </tr>\n",
       "    <tr>\n",
       "      <th>2</th>\n",
       "      <td>68</td>\n",
       "      <td>58</td>\n",
       "    </tr>\n",
       "    <tr>\n",
       "      <th>3</th>\n",
       "      <td>42</td>\n",
       "      <td>121</td>\n",
       "    </tr>\n",
       "    <tr>\n",
       "      <th>4</th>\n",
       "      <td>113</td>\n",
       "      <td>100</td>\n",
       "    </tr>\n",
       "  </tbody>\n",
       "</table>\n",
       "</div>"
      ],
      "text/plain": [
       "     X    Y\n",
       "0   12   11\n",
       "1   25   29\n",
       "2   68   58\n",
       "3   42  121\n",
       "4  113  100"
      ]
     },
     "execution_count": 5,
     "metadata": {},
     "output_type": "execute_result"
    }
   ],
   "source": [
    "df "
   ]
  },
  {
   "cell_type": "code",
   "execution_count": 6,
   "id": "073f6e45",
   "metadata": {},
   "outputs": [
    {
     "name": "stdout",
     "output_type": "stream",
     "text": [
      "<class 'pandas.core.frame.DataFrame'>\n",
      "RangeIndex: 5 entries, 0 to 4\n",
      "Data columns (total 2 columns):\n",
      " #   Column  Non-Null Count  Dtype\n",
      "---  ------  --------------  -----\n",
      " 0   X       5 non-null      int64\n",
      " 1   Y       5 non-null      int64\n",
      "dtypes: int64(2)\n",
      "memory usage: 212.0 bytes\n"
     ]
    }
   ],
   "source": [
    "df.info()"
   ]
  },
  {
   "cell_type": "code",
   "execution_count": 9,
   "id": "987c5782",
   "metadata": {},
   "outputs": [
    {
     "data": {
      "text/plain": [
       "Text(0.5, 1.0, 'Covariance= 4595.0')"
      ]
     },
     "execution_count": 9,
     "metadata": {},
     "output_type": "execute_result"
    },
    {
     "data": {
      "image/png": "[encoded data removed]",
      "text/plain": [
       "<Figure size 1000x300 with 2 Axes>"
      ]
     },
     "metadata": {},
     "output_type": "display_data"
    }
   ],
   "source": [
    "fig , (ax1,ax2) = plt.subplots(nrows= 1,ncols = 2,figsize=(10,3))\n",
    "ax1.scatter(df['X'],df['Y'])\n",
    "ax2.scatter(df['X']*2,df['Y']*2)\n",
    "\n",
    "ax1.set_title(\"Covariance= \" + str(np.cov(df['X'],df['Y'])[0,1]))\n",
    "ax2.set_title(\"Covariance= \"+ str(np.cov(df['X']*2,df['Y']*2)[0,1]))"
   ]
  },
  {
   "cell_type": "code",
   "execution_count": 10,
   "id": "41192ef4",
   "metadata": {},
   "outputs": [
    {
     "name": "stdout",
     "output_type": "stream",
     "text": [
      "Covariance= 1148.75\n",
      "Covariance= 4595.0\n"
     ]
    }
   ],
   "source": [
    "print(\"Covariance= \" + str(np.cov(df['X'],df['Y'])[0,1]))\n",
    "print(\"Covariance= \" + str(np.cov(df['X']*2,df['Y']*2)[0,1]))"
   ]
  },
  {
   "cell_type": "code",
   "execution_count": 11,
   "id": "e02728e8",
   "metadata": {},
   "outputs": [
    {
     "data": {
      "text/plain": [
       "Text(0.5, 1.0, 'Covariance = 4595.0')"
      ]
     },
     "execution_count": 11,
     "metadata": {},
     "output_type": "execute_result"
    },
    {
     "data": {
      "image/png": "[encoded data removed]",
      "text/plain": [
       "<Figure size 1000x300 with 3 Axes>"
      ]
     },
     "metadata": {},
     "output_type": "display_data"
    }
   ],
   "source": [
    "# Plot the scatter plot on each axis\n",
    "fig,ax = plt.subplots(1,3, figsize= (10,3))\n",
    "\n",
    "ax[0].scatter(df['X'],df['X'])\n",
    "ax[1].scatter(df['X'],df['Y'])\n",
    "ax[2].scatter(df['X']*2,df['Y']*2)\n",
    "\n",
    "ax[0].set_title(\"Covariance = \" + str(np.cov(df['X'],df['X'])[0,1]))\n",
    "ax[1].set_title(\"Covariance = \"+ str(np.cov(df['X'],df['Y'])[0,1]))\n",
    "ax[2].set_title(\"Covariance = \"+ str(np.cov(df['X']*2,df['Y']*2)[0,1]))"
   ]
  },
  {
   "cell_type": "markdown",
   "id": "020ab362",
   "metadata": {},
   "source": [
    "# Correlation:- \n"
   ]
  },
  {
   "cell_type": "code",
   "execution_count": null,
   "id": "634843c6",
   "metadata": {},
   "outputs": [],
   "source": [
    "fig, ax = plt.subplots(1,2,figsize=(10,3))\n",
    "ax[0].scatter(df['X'],df['X'])\n",
    "ax[1].scatter(df['X'],df['Y'])\n",
    "\n",
    "ax[0].set_title(\"Correlation is  = \" + str(df['X'].corr(df['X'])))\n",
    "ax[1].set_title(\"Correlation is = \"+ str(df['X'].corr(df['Y'])))"
   ]
  },
  {
   "cell_type": "code",
   "execution_count": null,
   "id": "e6560306",
   "metadata": {},
   "outputs": [],
   "source": [
    "fig, ax = plt.subplots(1,2,figsize=(10,3))\n",
    "ax[0].scatter(df['X'],df['X'])\n",
    "ax[1].scatter(df['X'],df['Y'])\n",
    "\n",
    "ax[0].set_title(\"Correlation is  = \" + str(df['X'].corr(df['Y'])))\n",
    "ax[1].set_title(\"Correlation is = \"+ str((df['X']*2).corr(df['Y']*2)))\n",
    "\n",
    "# This shows that it does'nt depends on the scales."
   ]
  },
  {
   "cell_type": "markdown",
   "id": "ad8e2017",
   "metadata": {},
   "source": [
    "# Graphs on Multivariate Analysis:"
   ]
  },
  {
   "cell_type": "markdown",
   "id": "7822152a",
   "metadata": {},
   "source": [
    "### Visualizing Multiple Variables\n",
    "    1) 3D ScatterPlot\n",
    "    2) Bar plot with hue parameter\n",
    "    3) Facet Grid\n",
    "    5) PairPlot\n",
    "    6) Bubble Chart"
   ]
  },
  {
   "cell_type": "code",
   "execution_count": null,
   "id": "c5198b08",
   "metadata": {},
   "outputs": [],
   "source": []
  },
  {
   "cell_type": "code",
   "execution_count": null,
   "id": "11aa6535",
   "metadata": {},
   "outputs": [],
   "source": []
  },
  {
   "cell_type": "code",
   "execution_count": null,
   "id": "50cee7b2",
   "metadata": {},
   "outputs": [],
   "source": []
  },
  {
   "cell_type": "code",
   "execution_count": null,
   "id": "0a1b8982",
   "metadata": {},
   "outputs": [],
   "source": []
  },
  {
   "cell_type": "code",
   "execution_count": null,
   "id": "e1fc50f4",
   "metadata": {},
   "outputs": [],
   "source": []
  },
  {
   "cell_type": "code",
   "execution_count": null,
   "id": "f5f2eaed",
   "metadata": {},
   "outputs": [],
   "source": []
  },
  {
   "cell_type": "code",
   "execution_count": null,
   "id": "632d0205",
   "metadata": {},
   "outputs": [],
   "source": []
  },
  {
   "cell_type": "code",
   "execution_count": null,
   "id": "9539cb97",
   "metadata": {},
   "outputs": [],
   "source": []
  },
  {
   "cell_type": "code",
   "execution_count": null,
   "id": "3854c85e",
   "metadata": {},
   "outputs": [],
   "source": []
  },
  {
   "cell_type": "code",
   "execution_count": null,
   "id": "af5f9145",
   "metadata": {},
   "outputs": [],
   "source": []
  },
  {
   "cell_type": "code",
   "execution_count": null,
   "id": "bed953e1",
   "metadata": {},
   "outputs": [],
   "source": []
  },
  {
   "cell_type": "code",
   "execution_count": null,
   "id": "6f2b3ae0",
   "metadata": {},
   "outputs": [],
   "source": []
  },
  {
   "cell_type": "code",
   "execution_count": null,
   "id": "037afb42",
   "metadata": {},
   "outputs": [],
   "source": []
  },
  {
   "cell_type": "code",
   "execution_count": null,
   "id": "8232d771",
   "metadata": {},
   "outputs": [],
   "source": []
  },
  {
   "cell_type": "code",
   "execution_count": null,
   "id": "0563fd0c",
   "metadata": {},
   "outputs": [],
   "source": []
  },
  {
   "cell_type": "code",
   "execution_count": null,
   "id": "3ed663d7",
   "metadata": {},
   "outputs": [],
   "source": []
  },
  {
   "cell_type": "code",
   "execution_count": null,
   "id": "ed82a4f0",
   "metadata": {},
   "outputs": [],
   "source": []
  },
  {
   "cell_type": "code",
   "execution_count": null,
   "id": "8d8d25d4",
   "metadata": {},
   "outputs": [],
   "source": []
  },
  {
   "cell_type": "code",
   "execution_count": null,
   "id": "ca126189",
   "metadata": {},
   "outputs": [],
   "source": []
  },
  {
   "cell_type": "code",
   "execution_count": null,
   "id": "cb245bae",
   "metadata": {},
   "outputs": [],
   "source": []
  },
  {
   "cell_type": "code",
   "execution_count": null,
   "id": "cb4cf13b",
   "metadata": {},
   "outputs": [],
   "source": []
  }
 ],
 "metadata": {
  "kernelspec": {
   "display_name": "Python 3 (ipykernel)",
   "language": "python",
   "name": "python3"
  },
  "language_info": {
   "codemirror_mode": {
    "name": "ipython",
    "version": 3
   },
   "file_extension": ".py",
   "mimetype": "text/x-python",
   "name": "python",
   "nbconvert_exporter": "python",
   "pygments_lexer": "ipython3",
   "version": "3.11.4"
  }
 },
 "nbformat": 4,
 "nbformat_minor": 5
}
